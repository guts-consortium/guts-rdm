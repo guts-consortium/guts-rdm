{
  "cells": [
    {
      "cell_type": "markdown",
      "metadata": {},
      "source": [
        "## GUTS Codebook\n",
        "\n",
        "Here you can find a preliminary version of all the GUTS measures. For now, you can find an overview of all measure names. Later, you will be able to find more information about the measures, the items, the labels and levels, etc. **Note that measures may still be changed.**\n"
      ],
      "id": "cda5f58d"
    },
    {
      "cell_type": "code",
      "metadata": {},
      "source": [
        "#| echo: false\n",
        "#| warning: false\n",
        "import plotly.graph_objs as go\n",
        "import pandas as pd\n",
        "\n",
        "df = pd.read_excel(\"guts-measure-overview_v2.xlsx\", index_col=0) \n",
        "\n",
        "fig = go.Figure(data=[go.Table(\n",
        "    columnwidth=[150, 50],\n",
        "    header=dict(values=list(['<b>Measure<b>', \"<b>Short name measure<b>\", \"<b>Data type<b>\"]),\n",
        "                fill_color='gray',\n",
        "                align='left',\n",
        "                font = dict(color = 'black')),\n",
        "                cells=dict(\n",
        "                    values=[df['long-name'], df['short-name'], df['data-type']],\n",
        "                    align='left',\n",
        "                    fill_color=[['white', 'lightgray']*len(df)],\n",
        "                    height=30,\n",
        "                    font=dict(color= \"black\")\n",
        "                )\n",
        "\n",
        ")])\n",
        "\n",
        "unique_data_types = df['data-type'].unique()\n",
        "\n",
        "fig.update_layout(\n",
        "    height=500,\n",
        "    margin=dict(r=5, l=5, t=50, b=5),\n",
        "    font=dict(size=14),\n",
        "    title_text=\"<b>GUTS measures<b>\",\n",
        "    title_xanchor=\"left\",\n",
        "    clickmode=\"event + select\",\n",
        "    hovermode=\"closest\",\n",
        ")\n",
        "\n",
        "fig.show()"
      ],
      "id": "10f712a8",
      "execution_count": null,
      "outputs": []
    }
  ],
  "metadata": {
    "kernelspec": {
      "display_name": "Python 3",
      "language": "python",
      "name": "python3"
    }
  },
  "nbformat": 4,
  "nbformat_minor": 5
}